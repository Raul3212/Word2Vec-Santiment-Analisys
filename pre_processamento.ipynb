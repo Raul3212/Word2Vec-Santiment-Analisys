{
 "cells": [
  {
   "cell_type": "code",
   "execution_count": null,
   "metadata": {
    "collapsed": true
   },
   "outputs": [],
   "source": [
    "from bs4 import BeautifulSoup\n",
    "import re\n",
    "import nltk\n",
    "import numpy as np\n",
    "from sklearn.feature_extraction.text import TfidfVectorizer"
   ]
  },
  {
   "cell_type": "code",
   "execution_count": null,
   "metadata": {
    "collapsed": true
   },
   "outputs": [],
   "source": [
    "class PreProcessor:\n",
    "    def __init__(self, word_min_count=1, remove_stopwords=False, tokenizer=None, stemming = True):\n",
    "        self.__dataset = None\n",
    "        self.__cleaned_sentences = None\n",
    "        self.__cleaned_sentences_word_list = None\n",
    "        self.__tfidf_dict = None\n",
    "        self.__word_min_count = word_min_count\n",
    "        self.__remove_stopwords = remove_stopwords\n",
    "        self.__tokenizer = tokenizer\n",
    "        self.__stemming = stemming\n",
    "\n",
    "    def get_cleaned_sentences_word_list(self):\n",
    "        return self.__cleaned_sentences_word_list\n",
    "\n",
    "    def get_cleaned_sentences(self):\n",
    "        return self.__cleaned_sentences\n",
    "\n",
    "    def get_tfidf_dict(self):\n",
    "        return self.__tfidf_dict\n",
    "\n",
    "    def fit(self, dataset):\n",
    "        self.__dataset = dataset\n",
    "        self.__gen_cleaned_sentences()\n",
    "        self.__gen_tfidf_dict()\n",
    "\n",
    "    def __gen_cleaned_sentences(self):\n",
    "        self.__cleaned_sentences = []\n",
    "        self.__cleaned_sentences_word_list = []\n",
    "        for text in self.__dataset:\n",
    "            if self.__tokenizer is not None:\n",
    "                raw_sentences = self.__tokenizer.tokenize(text)\n",
    "                for sentence in raw_sentences:\n",
    "                    cleaned_sentence = self.__clean_sentence(sentence)\n",
    "                    self.__cleaned_sentences.append(cleaned_sentence)\n",
    "                    self.__cleaned_sentences_word_list.append(cleaned_sentence.split())\n",
    "            else:\n",
    "                cleaned_sentence = self.__clean_sentence(text)\n",
    "                self.__cleaned_sentences.append(cleaned_sentence)\n",
    "                self.__cleaned_sentences_word_list.append(cleaned_sentence.split())\n",
    "\n",
    "    def __clean_sentence(self, sentence):\n",
    "        # 1- Remove tags HTML\n",
    "        sentence_text = BeautifulSoup(sentence, 'lxml').get_text()\n",
    "\n",
    "        # 2- Remove caracteres que não são letras\n",
    "        sentence_text = re.sub('[^a-zA-z]', ' ', sentence_text)\n",
    "\n",
    "        # 3- Todas as palavras para caixa baixa\n",
    "        words = nltk.word_tokenize(sentence_text.lower().strip())\n",
    "        \n",
    "        if self.__stemming:\n",
    "            # 4- Stemming words\n",
    "            stemmer = nltk.stem.snowball.EnglishStemmer()\n",
    "            new_words = [stemmer.stem(word) for word in words]\n",
    "        else:\n",
    "            new_words = words\n",
    "        \n",
    "        new_sentence = None\n",
    "        # 5- Remove stopwords\n",
    "        if self.__remove_stopwords:\n",
    "            stops = set(nltk.corpus.stopwords.words('english'))\n",
    "            new_sentence = ' '.join([w for w in new_words if w not in stops])\n",
    "        else:\n",
    "            new_sentence = ' '.join(new_words)\n",
    "\n",
    "        return new_sentence\n",
    "\n",
    "    def __gen_tfidf_dict(self):\n",
    "        vectorizer = TfidfVectorizer()\n",
    "        X = vectorizer.fit_transform(self.__cleaned_sentences)\n",
    "        weights = np.asarray(X.mean(axis=0)).ravel().tolist()\n",
    "        self.__tfidf_dict = dict(zip(vectorizer.get_feature_names(), weights))\n"
   ]
  }
 ],
 "metadata": {
  "kernelspec": {
   "display_name": "Python 3",
   "language": "python",
   "name": "python3"
  },
  "language_info": {
   "codemirror_mode": {
    "name": "ipython",
    "version": 3
   },
   "file_extension": ".py",
   "mimetype": "text/x-python",
   "name": "python",
   "nbconvert_exporter": "python",
   "pygments_lexer": "ipython3",
   "version": "3.6.1"
  }
 },
 "nbformat": 4,
 "nbformat_minor": 2
}
