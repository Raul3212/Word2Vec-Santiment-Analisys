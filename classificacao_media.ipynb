{
 "cells": [
  {
   "cell_type": "code",
   "execution_count": null,
   "metadata": {
    "collapsed": true
   },
   "outputs": [],
   "source": [
    "import pandas as pd\n",
    "import numpy as np\n",
    "from gensim.models import word2vec\n",
    "import gensim\n",
    "import nbimporter\n",
    "from pre_processamento import *\n",
    "from features_media import *\n",
    "from sklearn.model_selection import cross_val_predict\n",
    "from sklearn.model_selection import train_test_split\n",
    "import numpy as np\n",
    "import sklearn.metrics as skm\n",
    "import glob\n",
    "%matplotlib inline"
   ]
  },
  {
   "cell_type": "code",
   "execution_count": null,
   "metadata": {
    "collapsed": true
   },
   "outputs": [],
   "source": [
    "#Classificadores\n",
    "from sklearn import naive_bayes\n",
    "from sklearn import svm"
   ]
  },
  {
   "cell_type": "code",
   "execution_count": null,
   "metadata": {
    "collapsed": true
   },
   "outputs": [],
   "source": [
    "minWordCount = 1\n",
    "removeStopWords = True\n",
    "numFeatures = 300"
   ]
  },
  {
   "cell_type": "code",
   "execution_count": null,
   "metadata": {
    "collapsed": true
   },
   "outputs": [],
   "source": [
    "fileName = \"IPHONE6\""
   ]
  },
  {
   "cell_type": "code",
   "execution_count": null,
   "metadata": {},
   "outputs": [],
   "source": [
    "# Carrega dataset e realiza shuffle\n",
    "dataset = pd.read_csv(\"Data/Bases/{}.csv\".format(fileName), delimiter=',', header=0)\n",
    "dataset.shape"
   ]
  },
  {
   "cell_type": "code",
   "execution_count": null,
   "metadata": {
    "collapsed": true
   },
   "outputs": [],
   "source": [
    "# Instancia um novo pré-processador\n",
    "preprocessor_classifier = PreProcessor(remove_stopwords=True, word_min_count=minWordCount, stemming=True)\n",
    "\n",
    "# Manda um conjunto de textos para ser pré-processado\n",
    "preprocessor_classifier.fit(dataset[\"TEXT\"])"
   ]
  },
  {
   "cell_type": "code",
   "execution_count": null,
   "metadata": {
    "collapsed": true
   },
   "outputs": [],
   "source": [
    "cleaned_tweets_word_list = preprocessor_classifier.get_cleaned_sentences_word_list()"
   ]
  },
  {
   "cell_type": "code",
   "execution_count": null,
   "metadata": {
    "collapsed": true
   },
   "outputs": [],
   "source": [
    "classifiers = [\n",
    "    (\"NBB\", naive_bayes.BernoulliNB()),\n",
    "    (\"LinearSVM\", svm.LinearSVC())\n",
    "]"
   ]
  },
  {
   "cell_type": "code",
   "execution_count": null,
   "metadata": {},
   "outputs": [],
   "source": [
    "resultados = []\n",
    "\n",
    "for fileModel in glob.glob(\"Data/Grupos/{}/*\".format(fileName)):\n",
    "    modelW2V = word2vec.Word2Vec.load(fileModel)\n",
    "    # Instancia o contrutor do vetor\n",
    "    generator = FeatureGeneratorMedia(cleaned_tweets_word_list, modelW2V, numFeatures)\n",
    "\n",
    "    # Gera os vetores para cada tweet\n",
    "    generator.gen_features_vec()\n",
    "\n",
    "    # Pega os vetores gerados\n",
    "    features_w2v = generator.get_features_vec()\n",
    "    \n",
    "    for (c_name, c) in classifiers:\n",
    "        line = [fileModel]\n",
    "        y_pred = cross_val_predict(c, features_w2v, dataset['CLASS'], cv=5)\n",
    "        line.append(c_name)\n",
    "        line.append(skm.accuracy_score(y_pred=y_pred, y_true=dataset['CLASS']))\n",
    "        line.append(skm.precision_score(y_pred=y_pred, y_true=dataset['CLASS']))\n",
    "        line.append(skm.recall_score(y_pred=y_pred, y_true=dataset['CLASS']))\n",
    "        line.append(skm.f1_score(y_pred=y_pred, y_true=dataset['CLASS']))\n",
    "        resultados.append(line)"
   ]
  },
  {
   "cell_type": "code",
   "execution_count": null,
   "metadata": {
    "collapsed": true
   },
   "outputs": [],
   "source": [
    "np.savetxt(\"Resultados/{}_media.csv\".format(fileName), np.array(resultados), delimiter=',', fmt=\"%s\")"
   ]
  },
  {
   "cell_type": "code",
   "execution_count": null,
   "metadata": {
    "collapsed": true
   },
   "outputs": [],
   "source": []
  }
 ],
 "metadata": {
  "kernelspec": {
   "display_name": "Python 3",
   "language": "python",
   "name": "python3"
  },
  "language_info": {
   "codemirror_mode": {
    "name": "ipython",
    "version": 3
   },
   "file_extension": ".py",
   "mimetype": "text/x-python",
   "name": "python",
   "nbconvert_exporter": "python",
   "pygments_lexer": "ipython3",
   "version": "3.6.1"
  }
 },
 "nbformat": 4,
 "nbformat_minor": 2
}
