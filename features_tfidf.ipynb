{
 "cells": [
  {
   "cell_type": "code",
   "execution_count": null,
   "metadata": {
    "collapsed": true
   },
   "outputs": [],
   "source": [
    "import numpy as np"
   ]
  },
  {
   "cell_type": "code",
   "execution_count": null,
   "metadata": {
    "collapsed": true
   },
   "outputs": [],
   "source": [
    "class FeatureGeneratorTfIdf:\n",
    "    def __init__(self, cleaned_tweets_word_list, w2vmodel, num_features, tfidf_dict):\n",
    "        self.__cleaned_tweets_word_list = cleaned_tweets_word_list\n",
    "        self.__w2vmodel = w2vmodel\n",
    "        self.__num_features = num_features\n",
    "        self.__features_vec = None\n",
    "        self.__tfidf_dict = tfidf_dict\n",
    "\n",
    "    def gen_features_vec(self):\n",
    "        counter = 0\n",
    "        self.__features_vec = np.zeros((len(self.__cleaned_tweets_word_list), self.__num_features))\n",
    "        for tweet in self.__cleaned_tweets_word_list:\n",
    "            self.__features_vec[counter] = self.__make_features_vec(tweet)\n",
    "            counter += 1\n",
    "    \n",
    "    def get_features_vec(self):\n",
    "        return self.__features_vec\n",
    "\n",
    "    def __make_features_vec(self, tweet):\n",
    "        featureVec = np.zeros(self.__num_features)\n",
    "        nwords = 0.0\n",
    "        index2word_set = set(self.__w2vmodel.wv.index2word).intersection(set(self.__tfidf_dict.keys()))\n",
    "        for word in tweet:\n",
    "            if word in index2word_set:\n",
    "                featureVec = np.add(featureVec, self.__tfidf_dict[word]*self.__w2vmodel[word])\n",
    "                nwords += self.__tfidf_dict[word]\n",
    "        if nwords == 0.0:\n",
    "            nwords = 1.0\n",
    "        return np.divide(featureVec, nwords)"
   ]
  }
 ],
 "metadata": {
  "kernelspec": {
   "display_name": "Python 3",
   "language": "python",
   "name": "python3"
  },
  "language_info": {
   "codemirror_mode": {
    "name": "ipython",
    "version": 3
   },
   "file_extension": ".py",
   "mimetype": "text/x-python",
   "name": "python",
   "nbconvert_exporter": "python",
   "pygments_lexer": "ipython3",
   "version": "3.6.1"
  }
 },
 "nbformat": 4,
 "nbformat_minor": 2
}
