{
 "cells": [
  {
   "cell_type": "code",
   "execution_count": null,
   "metadata": {
    "collapsed": true
   },
   "outputs": [],
   "source": [
    "import numpy as np\n",
    "from sklearn.cluster import KMeans"
   ]
  },
  {
   "cell_type": "code",
   "execution_count": null,
   "metadata": {
    "collapsed": true
   },
   "outputs": [],
   "source": [
    "class FeatureGeneratorClustering:\n",
    "    def __init__(self, cleaned_tweets_word_list, w2vmodel, num_features):\n",
    "        self.__cleaned_tweets_word_list = cleaned_tweets_word_list\n",
    "        self.__w2vmodel = w2vmodel\n",
    "        self.__num_features = num_features\n",
    "        self.__features_vec = None\n",
    "        \n",
    "        # Clusterizando\n",
    "        word_vectors = w2vmodel.wv.syn0\n",
    "        num_clusters = int(word_vectors.shape[0]/5)\n",
    "        kmeans_clustering = KMeans(n_clusters = num_clusters)\n",
    "        idx = kmeans_clustering.fit_predict(word_vectors)\n",
    "        self.__word_centroid_map = dict(zip(w2vmodel.wv.index2word, idx))\n",
    "\n",
    "    def gen_features_vec(self):\n",
    "        cont = 0\n",
    "        num_centroids = max(self.__word_centroid_map.values()) + 1\n",
    "        self.__features_vec = np.zeros((len(self.__cleaned_tweets_word_list), num_centroids))\n",
    "        for tweet in self.__cleaned_tweets_word_list:\n",
    "            self.__features_vec[cont] = self.__make_features_vec(tweet)\n",
    "            cont += 1\n",
    "            \n",
    "    def __make_features_vec(self, tweet):\n",
    "        num_centroids = max(self.__word_centroid_map.values()) + 1\n",
    "        bag_of_centroids = np.zeros(num_centroids, dtype=\"float32\")\n",
    "        for word in tweet:\n",
    "            if word in self.__word_centroid_map:\n",
    "                index = self.__word_centroid_map[word]\n",
    "                bag_of_centroids[index] += 1\n",
    "        return bag_of_centroids\n",
    "    \n",
    "    def get_features_vec(self):\n",
    "        return self.__features_vec\n",
    "    \n",
    "    def print_clusters(self, n):\n",
    "        for cluster in range(n):\n",
    "            # Print the cluster number  \n",
    "            print(\" [->] Cluster {}:\".format(cluster))\n",
    "            # Find all of the words for that cluster number, and print them out\n",
    "            words = []\n",
    "            for i in range(len(self.__word_centroid_map.values())):\n",
    "                if(list(self.__word_centroid_map.values())[i] == cluster):\n",
    "                    words.append(list(self.__word_centroid_map.keys())[i])\n",
    "            print(words)\n"
   ]
  }
 ],
 "metadata": {
  "kernelspec": {
   "display_name": "Python 3",
   "language": "python",
   "name": "python3"
  },
  "language_info": {
   "codemirror_mode": {
    "name": "ipython",
    "version": 3
   },
   "file_extension": ".py",
   "mimetype": "text/x-python",
   "name": "python",
   "nbconvert_exporter": "python",
   "pygments_lexer": "ipython3",
   "version": "3.6.1"
  }
 },
 "nbformat": 4,
 "nbformat_minor": 2
}
